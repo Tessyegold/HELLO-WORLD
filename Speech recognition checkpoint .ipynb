{
 "cells": [
  {
   "cell_type": "code",
   "execution_count": null,
   "id": "10309be5-7baf-428b-94dc-0ed879ffc152",
   "metadata": {},
   "outputs": [],
   "source": [
    "What You're Aiming For\n",
    "\n",
    "Improve the Speech Recognition App\n",
    "\n",
    "In this exercise, you will improve the Speech Recognition App by adding some features to enhance its functionality.\n",
    "\n",
    "\n",
    "Instructions\n",
    "\n",
    "Include a new option for users to select the speech recognition API they want to use. In addition to Google Speech Recognition, consider other APIs available in the provided libraries.\n",
    "Improve the error handling in the transcribe_speech() function to provide more meaningful error messages to the user.\n",
    "Add a feature to allow the user to save the transcribed text to a file.\n",
    "Add a feature to allow the user to choose the language they are speaking in, and configure the speech recognition API to use that language.\n",
    "Add a feature to allow the user to pause and resume the speech recognition process.\n",
    "Note:\n",
    "\n",
    "When adding new features, be sure to test the app thoroughly to ensure that it is working correctly. Also, consider the user experience and design the app to be intuitive and easy to use. Finally, if you encounter any issues or challenges, don't hesitate to consult the documentation or seek help from the community."
   ]
  },
  {
   "cell_type": "code",
   "execution_count": 8,
   "id": "1cc2ea9b-1246-436c-b529-46fc23bae6b5",
   "metadata": {},
   "outputs": [],
   "source": [
    "import speech_recognition as sr\n",
    "import os\n",
    "\n"
   ]
  },
  {
   "cell_type": "code",
   "execution_count": 6,
   "id": "6017d3c3-72d3-460c-8e85-5a145891b18e",
   "metadata": {},
   "outputs": [
    {
     "name": "stdout",
     "output_type": "stream",
     "text": [
      "Collecting SpeechRecognition\n",
      "  Downloading SpeechRecognition-3.14.1-py3-none-any.whl.metadata (31 kB)\n",
      "Requirement already satisfied: typing-extensions in /opt/anaconda3/lib/python3.12/site-packages (from SpeechRecognition) (4.11.0)\n",
      "Downloading SpeechRecognition-3.14.1-py3-none-any.whl (32.9 MB)\n",
      "\u001b[2K   \u001b[90m━━━━━━━━━━━━━━━━━━━━━━━━━━━━━━━━━━━━━━━━\u001b[0m \u001b[32m32.9/32.9 MB\u001b[0m \u001b[31m1.9 MB/s\u001b[0m eta \u001b[36m0:00:00\u001b[0m00:01\u001b[0m00:01\u001b[0m\n",
      "\u001b[?25hInstalling collected packages: SpeechRecognition\n",
      "Successfully installed SpeechRecognition-3.14.1\n"
     ]
    }
   ],
   "source": [
    "!pip install SpeechRecognition\n"
   ]
  },
  {
   "cell_type": "code",
   "execution_count": 10,
   "id": "d858cc69-e134-4471-9407-f97faea32d4c",
   "metadata": {},
   "outputs": [
    {
     "name": "stdout",
     "output_type": "stream",
     "text": [
      "Select Speech Recognition API:\n",
      "1. Google Web Speech API\n",
      "2. Sphinx (Offline)\n"
     ]
    },
    {
     "name": "stdin",
     "output_type": "stream",
     "text": [
      "Enter choice (1/2):  1\n",
      "Enter language code (default: en-US):  en-US\n",
      "Press Enter to start recording (or type 'exit' to quit):  exit\n"
     ]
    }
   ],
   "source": [
    "\n",
    "def select_speech_api():\n",
    "    print(\"Select Speech Recognition API:\")\n",
    "    print(\"1. Google Web Speech API\")\n",
    "    print(\"2. Sphinx (Offline)\")\n",
    "    \n",
    "    choice = input(\"Enter choice (1/2): \").strip()\n",
    "    if choice == \"1\":\n",
    "        return \"google\"\n",
    "    elif choice == \"2\":\n",
    "        return \"sphinx\"\n",
    "    else:\n",
    "        print(\"Invalid choice, defaulting to Google.\")\n",
    "        return \"google\"\n",
    "\n",
    "def transcribe_speech(api_choice, language=\"en-US\"):\n",
    "    recognizer = sr.Recognizer()\n",
    "    with sr.Microphone() as source:\n",
    "        print(\"Listening... (Press Ctrl+C to stop)\")\n",
    "        recognizer.adjust_for_ambient_noise(source)\n",
    "        try:\n",
    "            audio = recognizer.listen(source, timeout=10)\n",
    "            if api_choice == \"google\":\n",
    "                text = recognizer.recognize_google(audio, language=language)\n",
    "            elif api_choice == \"sphinx\":\n",
    "                text = recognizer.recognize_sphinx(audio, language=language)\n",
    "            else:\n",
    "                raise ValueError(\"Invalid API choice.\")\n",
    "            return text\n",
    "        except sr.UnknownValueError:\n",
    "            return \"Sorry, could not understand the audio.\"\n",
    "        except sr.RequestError as e:\n",
    "            return f\"API request error: {e}\"\n",
    "        except Exception as e:\n",
    "            return f\"An error occurred: {e}\"\n",
    "\n",
    "def save_transcription(text):\n",
    "    filename = input(\"Enter filename to save transcription: \").strip()\n",
    "    if not filename.endswith(\".txt\"):\n",
    "        filename += \".txt\"\n",
    "    with open(filename, \"w\", encoding=\"utf-8\") as file:\n",
    "        file.write(text)\n",
    "    print(f\"Transcription saved to {filename}\")\n",
    "\n",
    "def main():\n",
    "    api_choice = select_speech_api()\n",
    "    language = input(\"Enter language code (default: en-US): \").strip() or \"en-US\"\n",
    "\n",
    "    while True:\n",
    "        command = input(\"Press Enter to start recording (or type 'exit' to quit): \").strip().lower()\n",
    "        if command == \"exit\":\n",
    "            break\n",
    "\n",
    "        transcription = transcribe_speech(api_choice, language)\n",
    "        print(f\"Transcription: {transcription}\")\n",
    "\n",
    "        save_choice = input(\"Save transcription? (y/n): \").strip().lower()\n",
    "        if save_choice == \"y\":\n",
    "            save_transcription(transcription)\n",
    "\n",
    "if __name__ == \"__main__\":\n",
    "    main()\n"
   ]
  },
  {
   "cell_type": "code",
   "execution_count": null,
   "id": "37e9ad19-52e8-42cc-91fa-c41a2b5f6e08",
   "metadata": {},
   "outputs": [],
   "source": []
  }
 ],
 "metadata": {
  "kernelspec": {
   "display_name": "Python 3 (ipykernel)",
   "language": "python",
   "name": "python3"
  },
  "language_info": {
   "codemirror_mode": {
    "name": "ipython",
    "version": 3
   },
   "file_extension": ".py",
   "mimetype": "text/x-python",
   "name": "python",
   "nbconvert_exporter": "python",
   "pygments_lexer": "ipython3",
   "version": "3.12.7"
  }
 },
 "nbformat": 4,
 "nbformat_minor": 5
}
